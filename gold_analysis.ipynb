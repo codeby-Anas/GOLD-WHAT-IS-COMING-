{
  "cells": [
    {
      "cell_type": "markdown",
      "id": "9b45077e",
      "metadata": {},
      "source": [
        "# Gold Price Analysis in Jordan (21K)\n",
        "\n",
        "This project analyzes the gold price (21K) in Jordan over the last five years (2020-2025). \n",
        "It uses Python, Pandas, and Matplotlib to explore the data, visualize trends, and extract insights.\n",
        "\n",
        "Author: Anas\n",
        "Project prepared for GitHub portfolio."
      ]
    },
    {
      "cell_type": "code",
      "execution_count": null,
      "id": "514108c2",
      "metadata": {},
      "outputs": [],
      "source": [
        "import pandas as pd\n",
        "import matplotlib.pyplot as plt\n",
        "import seaborn as sns\n",
        "\n",
        "# قراءة البيانات\n",
        "df = pd.read_csv('gold_prices_jordan.csv')\n",
        "df['Date'] = pd.to_datetime(df['Date'])\n",
        "df.head()"
      ]
    },
    {
      "cell_type": "markdown",
      "id": "18247fe1",
      "metadata": {},
      "source": [
        "## Basic Statistics"
      ]
    },
    {
      "cell_type": "code",
      "execution_count": null,
      "id": "d2ab2795",
      "metadata": {},
      "outputs": [],
      "source": [
        "# إحصائيات أساسية\n",
        "df.describe()"
      ]
    },
    {
      "cell_type": "markdown",
      "id": "e5acbe2e",
      "metadata": {},
      "source": [
        "## Yearly Analysis"
      ]
    },
    {
      "cell_type": "code",
      "execution_count": null,
      "id": "ff1830ed",
      "metadata": {},
      "outputs": [],
      "source": [
        "# إضافة عمود السنة\n",
        "df['Year'] = df['Date'].dt.year\n",
        "\n",
        "# حساب المتوسط وأعلى وأقل سعر لكل سنة\n",
        "yearly_stats = df.groupby('Year')['Gold_Price_JOD'].agg(['mean','min','max']).reset_index()\n",
        "yearly_stats"
      ]
    },
    {
      "cell_type": "markdown",
      "id": "c1a57517",
      "metadata": {},
      "source": [
        "## Yearly Change (%)"
      ]
    },
    {
      "cell_type": "code",
      "execution_count": null,
      "id": "2c3d6022",
      "metadata": {},
      "outputs": [],
      "source": [
        "# حساب نسبة التغير السنوي\n",
        "yearly_stats['pct_change'] = yearly_stats['mean'].pct_change() * 100\n",
        "yearly_stats"
      ]
    },
    {
      "cell_type": "markdown",
      "id": "b0828eea",
      "metadata": {},
      "source": [
        "## Visualization: Gold Price Over Time"
      ]
    },
    {
      "cell_type": "code",
      "execution_count": null,
      "id": "9c1fe39c",
      "metadata": {},
      "outputs": [],
      "source": [
        "plt.figure(figsize=(12,6))\n",
        "plt.plot(df['Date'], df['Gold_Price_JOD'], color='gold', label='Gold Price (JOD)')\n",
        "plt.title('Gold Price 21K in Jordan (2020-2025)')\n",
        "plt.xlabel('Date')\n",
        "plt.ylabel('Price (JOD per gram)')\n",
        "plt.legend()\n",
        "plt.grid(True)\n",
        "plt.show()"
      ]
    },
    {
      "cell_type": "markdown",
      "id": "76473c42",
      "metadata": {},
      "source": [
        "## Visualization: Yearly Average Price"
      ]
    },
    {
      "cell_type": "code",
      "execution_count": null,
      "id": "1621d59f",
      "metadata": {},
      "outputs": [],
      "source": [
        "plt.figure(figsize=(8,5))\n",
        "sns.barplot(data=yearly_stats, x='Year', y='mean', palette='YlOrBr')\n",
        "plt.title('Average Gold Price per Year (JOD)')\n",
        "plt.ylabel('Average Price (JOD)')\n",
        "plt.show()"
      ]
    },
    {
      "cell_type": "markdown",
      "id": "b51db80c",
      "metadata": {},
      "source": [
        "## Conclusions\n",
        "- The gold price showed a general upward trend from 2020 to 2025.\n",
        "- Certain years had stronger growth due to economic factors.\n",
        "- This dataset can be extended to compare with global gold prices or build forecasting models (Linear Regression, ARIMA, etc.).\n"
      ]
    }
  ],
  "metadata": {
    "kernelspec": {
      "display_name": "Python 3",
      "language": "python",
      "name": "python3"
    },
    "language_info": {
      "name": "python",
      "version": "3.11"
    }
  },
  "nbformat": 4,
  "nbformat_minor": 5
}
